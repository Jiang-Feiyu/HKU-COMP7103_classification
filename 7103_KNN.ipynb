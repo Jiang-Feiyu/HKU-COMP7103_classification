{
 "cells": [
  {
   "cell_type": "code",
   "execution_count": 1,
   "id": "3ac2c0c5",
   "metadata": {},
   "outputs": [],
   "source": [
    "import numpy as np\n",
    "import matplotlib.pyplot as plt\n",
    "import pandas as pd\n"
   ]
  },
  {
   "cell_type": "code",
   "execution_count": 47,
   "id": "747d5a12",
   "metadata": {},
   "outputs": [],
   "source": [
    "from sklearn import preprocessing\n",
    "from sklearn.model_selection import train_test_split\n",
    "from sklearn.neighbors import KNeighborsClassifier\n",
    "from sklearn.metrics import accuracy_score\n",
    "from sklearn.preprocessing import OneHotEncoder\n",
    "from imblearn.over_sampling import SMOTE"
   ]
  },
  {
   "cell_type": "code",
   "execution_count": 48,
   "id": "ae3374bc",
   "metadata": {},
   "outputs": [],
   "source": [
    "df_train=pd.read_csv(\"Train.csv\")\n",
    "df_validate=pd.read_csv(\"Validate.csv\")\n",
    "df_test=pd.read_csv(\"Test.csv\")"
   ]
  },
  {
   "cell_type": "code",
   "execution_count": 49,
   "id": "b31f8a75",
   "metadata": {},
   "outputs": [],
   "source": [
    "df_train = df_train.drop('Profession', axis=1)\n",
    "df_validate = df_validate.drop('Profession', axis=1)\n",
    "df_test = df_test.drop('Profession', axis=1)"
   ]
  },
  {
   "cell_type": "code",
   "execution_count": 50,
   "id": "2ec619a7",
   "metadata": {},
   "outputs": [
    {
     "data": {
      "text/html": [
       "<div>\n",
       "<style scoped>\n",
       "    .dataframe tbody tr th:only-of-type {\n",
       "        vertical-align: middle;\n",
       "    }\n",
       "\n",
       "    .dataframe tbody tr th {\n",
       "        vertical-align: top;\n",
       "    }\n",
       "\n",
       "    .dataframe thead th {\n",
       "        text-align: right;\n",
       "    }\n",
       "</style>\n",
       "<table border=\"1\" class=\"dataframe\">\n",
       "  <thead>\n",
       "    <tr style=\"text-align: right;\">\n",
       "      <th></th>\n",
       "      <th>ID</th>\n",
       "      <th>Married</th>\n",
       "      <th>Gender</th>\n",
       "      <th>Age</th>\n",
       "      <th>Graduate</th>\n",
       "      <th>Years_of_Working</th>\n",
       "      <th>Spending_Score</th>\n",
       "      <th>Family_Members</th>\n",
       "      <th>Category</th>\n",
       "      <th>Class(Target)</th>\n",
       "    </tr>\n",
       "  </thead>\n",
       "  <tbody>\n",
       "    <tr>\n",
       "      <th>0</th>\n",
       "      <td>0</td>\n",
       "      <td>1</td>\n",
       "      <td>1.0</td>\n",
       "      <td>36</td>\n",
       "      <td>NaN</td>\n",
       "      <td>9.0</td>\n",
       "      <td>Low</td>\n",
       "      <td>2.0</td>\n",
       "      <td>Cat_6</td>\n",
       "      <td>C</td>\n",
       "    </tr>\n",
       "    <tr>\n",
       "      <th>1</th>\n",
       "      <td>1</td>\n",
       "      <td>0</td>\n",
       "      <td>1.0</td>\n",
       "      <td>49</td>\n",
       "      <td>1.0</td>\n",
       "      <td>1.0</td>\n",
       "      <td>Low</td>\n",
       "      <td>1.0</td>\n",
       "      <td>Cat_6</td>\n",
       "      <td>A</td>\n",
       "    </tr>\n",
       "    <tr>\n",
       "      <th>2</th>\n",
       "      <td>2</td>\n",
       "      <td>0</td>\n",
       "      <td>NaN</td>\n",
       "      <td>25</td>\n",
       "      <td>0.0</td>\n",
       "      <td>8.0</td>\n",
       "      <td>Low</td>\n",
       "      <td>1.0</td>\n",
       "      <td>Cat_3</td>\n",
       "      <td>B</td>\n",
       "    </tr>\n",
       "    <tr>\n",
       "      <th>3</th>\n",
       "      <td>3</td>\n",
       "      <td>1</td>\n",
       "      <td>0.0</td>\n",
       "      <td>77</td>\n",
       "      <td>1.0</td>\n",
       "      <td>0.0</td>\n",
       "      <td>High</td>\n",
       "      <td>2.0</td>\n",
       "      <td>Cat_4</td>\n",
       "      <td>A</td>\n",
       "    </tr>\n",
       "    <tr>\n",
       "      <th>4</th>\n",
       "      <td>4</td>\n",
       "      <td>1</td>\n",
       "      <td>0.0</td>\n",
       "      <td>39</td>\n",
       "      <td>1.0</td>\n",
       "      <td>1.0</td>\n",
       "      <td>Average</td>\n",
       "      <td>4.0</td>\n",
       "      <td>Cat_3</td>\n",
       "      <td>A</td>\n",
       "    </tr>\n",
       "    <tr>\n",
       "      <th>...</th>\n",
       "      <td>...</td>\n",
       "      <td>...</td>\n",
       "      <td>...</td>\n",
       "      <td>...</td>\n",
       "      <td>...</td>\n",
       "      <td>...</td>\n",
       "      <td>...</td>\n",
       "      <td>...</td>\n",
       "      <td>...</td>\n",
       "      <td>...</td>\n",
       "    </tr>\n",
       "    <tr>\n",
       "      <th>7482</th>\n",
       "      <td>7482</td>\n",
       "      <td>0</td>\n",
       "      <td>1.0</td>\n",
       "      <td>21</td>\n",
       "      <td>0.0</td>\n",
       "      <td>1.0</td>\n",
       "      <td>Low</td>\n",
       "      <td>4.0</td>\n",
       "      <td>Cat_6</td>\n",
       "      <td>B</td>\n",
       "    </tr>\n",
       "    <tr>\n",
       "      <th>7483</th>\n",
       "      <td>7483</td>\n",
       "      <td>0</td>\n",
       "      <td>1.0</td>\n",
       "      <td>37</td>\n",
       "      <td>1.0</td>\n",
       "      <td>1.0</td>\n",
       "      <td>Low</td>\n",
       "      <td>2.0</td>\n",
       "      <td>Cat_6</td>\n",
       "      <td>D</td>\n",
       "    </tr>\n",
       "    <tr>\n",
       "      <th>7484</th>\n",
       "      <td>7484</td>\n",
       "      <td>0</td>\n",
       "      <td>0.0</td>\n",
       "      <td>66</td>\n",
       "      <td>0.0</td>\n",
       "      <td>9.0</td>\n",
       "      <td>Average</td>\n",
       "      <td>2.0</td>\n",
       "      <td>Cat_6</td>\n",
       "      <td>D</td>\n",
       "    </tr>\n",
       "    <tr>\n",
       "      <th>7485</th>\n",
       "      <td>7485</td>\n",
       "      <td>1</td>\n",
       "      <td>0.0</td>\n",
       "      <td>80</td>\n",
       "      <td>0.0</td>\n",
       "      <td>1.0</td>\n",
       "      <td>Low</td>\n",
       "      <td>2.0</td>\n",
       "      <td>Cat_6</td>\n",
       "      <td>D</td>\n",
       "    </tr>\n",
       "    <tr>\n",
       "      <th>7486</th>\n",
       "      <td>7486</td>\n",
       "      <td>0</td>\n",
       "      <td>1.0</td>\n",
       "      <td>22</td>\n",
       "      <td>0.0</td>\n",
       "      <td>9.0</td>\n",
       "      <td>Low</td>\n",
       "      <td>4.0</td>\n",
       "      <td>Cat_6</td>\n",
       "      <td>B</td>\n",
       "    </tr>\n",
       "  </tbody>\n",
       "</table>\n",
       "<p>7487 rows × 10 columns</p>\n",
       "</div>"
      ],
      "text/plain": [
       "        ID  Married  Gender  Age  Graduate  Years_of_Working  Spending_Score  \\\n",
       "0        0        1     1.0   36       NaN                9.0            Low   \n",
       "1        1        0     1.0   49       1.0                1.0            Low   \n",
       "2        2        0     NaN   25       0.0                8.0            Low   \n",
       "3        3        1     0.0   77       1.0                0.0           High   \n",
       "4        4        1     0.0   39       1.0                1.0        Average   \n",
       "...    ...      ...     ...  ...       ...                ...            ...   \n",
       "7482  7482        0     1.0   21       0.0                1.0            Low   \n",
       "7483  7483        0     1.0   37       1.0                1.0            Low   \n",
       "7484  7484        0     0.0   66       0.0                9.0        Average   \n",
       "7485  7485        1     0.0   80       0.0                1.0            Low   \n",
       "7486  7486        0     1.0   22       0.0                9.0            Low   \n",
       "\n",
       "      Family_Members Category Class(Target)  \n",
       "0                2.0    Cat_6             C  \n",
       "1                1.0    Cat_6             A  \n",
       "2                1.0    Cat_3             B  \n",
       "3                2.0    Cat_4             A  \n",
       "4                4.0    Cat_3             A  \n",
       "...              ...      ...           ...  \n",
       "7482             4.0    Cat_6             B  \n",
       "7483             2.0    Cat_6             D  \n",
       "7484             2.0    Cat_6             D  \n",
       "7485             2.0    Cat_6             D  \n",
       "7486             4.0    Cat_6             B  \n",
       "\n",
       "[7487 rows x 10 columns]"
      ]
     },
     "execution_count": 50,
     "metadata": {},
     "output_type": "execute_result"
    }
   ],
   "source": [
    "df_train"
   ]
  },
  {
   "cell_type": "code",
   "execution_count": 51,
   "id": "9ccedbd7",
   "metadata": {},
   "outputs": [],
   "source": [
    "category_mapping = {'Cat_1': 1, 'Cat_2': 2, 'Cat_3': 3,'Cat_4':4,'Cat_5':5,'Cat_6':6,'Cat_7':7}  # Define your custom mapping\n",
    "spending_mapping={'Low':0, 'High':2 ,'Average':1}\n",
    "tar_mapping={'C':3, 'A':1, 'B':2, 'D':4}\n",
    "\n",
    "df_train['Category'] = df_train['Category'].map(category_mapping)\n",
    "df_train['Spending_Score']=df_train['Spending_Score'].map(spending_mapping)\n",
    "df_train['Class(Target)']=df_train['Class(Target)'].map(tar_mapping)\n",
    "\n",
    "df_validate['Category'] = df_validate['Category'].map(category_mapping)\n",
    "df_validate['Spending_Score']=df_validate['Spending_Score'].map(spending_mapping)\n",
    "df_validate['Class(Target)']=df_validate['Class(Target)'].map(tar_mapping)\n",
    "\n",
    "df_test['Category'] = df_test['Category'].map(category_mapping)\n",
    "df_test['Spending_Score']=df_test['Spending_Score'].map(spending_mapping)\n",
    "df_test['Class(Target)']=df_test['Class(Target)'].map(tar_mapping)\n"
   ]
  },
  {
   "cell_type": "code",
   "execution_count": 52,
   "id": "c745de6e",
   "metadata": {},
   "outputs": [],
   "source": [
    "df_train = df_train.dropna()\n",
    "df_validate = df_validate.dropna()\n",
    "df_test = df_test.dropna()"
   ]
  },
  {
   "cell_type": "code",
   "execution_count": 55,
   "id": "587cf9e9",
   "metadata": {},
   "outputs": [],
   "source": [
    "y_train=df_train[\"Class(Target)\"]\n",
    "del df_train[\"Class(Target)\"]\n",
    "X_train=df_train\n",
    "smote = SMOTE()\n",
    "X_resampled, y_resampled = smote.fit_resample(X_train, y_train)"
   ]
  },
  {
   "cell_type": "code",
   "execution_count": 56,
   "id": "cef0c4a5",
   "metadata": {},
   "outputs": [],
   "source": [
    "y_val=df_validate[\"Class(Target)\"]\n",
    "del df_validate[\"Class(Target)\"]\n",
    "X_val=df_validate"
   ]
  },
  {
   "cell_type": "code",
   "execution_count": 57,
   "id": "22b75d5f",
   "metadata": {},
   "outputs": [
    {
     "data": {
      "text/plain": [
       "0       3\n",
       "1       3\n",
       "2       2\n",
       "3       3\n",
       "5       4\n",
       "       ..\n",
       "1064    2\n",
       "1065    3\n",
       "1066    2\n",
       "1067    3\n",
       "1068    4\n",
       "Name: Class(Target), Length: 882, dtype: int64"
      ]
     },
     "execution_count": 57,
     "metadata": {},
     "output_type": "execute_result"
    }
   ],
   "source": [
    "y_val"
   ]
  },
  {
   "cell_type": "code",
   "execution_count": 58,
   "id": "d224d8b8",
   "metadata": {},
   "outputs": [
    {
     "name": "stdout",
     "output_type": "stream",
     "text": [
      "best_k = 3\n",
      "best_score = 0.31065759637188206\n"
     ]
    }
   ],
   "source": [
    "best_k = 0\n",
    "best_score = 0.0\n",
    "best_weights = ''\n",
    "for method in [\"uniform\",\"distance\"]:\n",
    "    for k in range(1,11):\n",
    "        knnclassifier = KNeighborsClassifier(n_neighbors = k,weights = method)\n",
    "        knnclassifier.fit(X_resampled, y_resampled)\n",
    "        score = knnclassifier.score(X_val, y_val)\n",
    "        if score > best_score:\n",
    "            best_score = score\n",
    "            best_k = k\n",
    "            best_weights = method\n",
    "print(\"best_k = %s\" %(best_k))\n",
    "print(\"best_score = %s\"%(best_score))\n"
   ]
  },
  {
   "cell_type": "code",
   "execution_count": 19,
   "id": "7d7c3828",
   "metadata": {},
   "outputs": [],
   "source": [
    "train_score = {}\n",
    "val_score = {}\n",
    "n_neighbors = np.arange(2, 30, 1)\n",
    "for neighbor in n_neighbors:\n",
    "    knn = KNeighborsClassifier(n_neighbors=neighbor)\n",
    "    knn.fit(X_train, y_train)\n",
    "    train_score[neighbor]=knn.score(X_train, y_train)\n",
    "    val_score[neighbor]=knn.score(X_val, y_val)\n",
    "\n",
    "\n"
   ]
  },
  {
   "cell_type": "code",
   "execution_count": 20,
   "id": "a378b7c3",
   "metadata": {},
   "outputs": [
    {
     "name": "stdout",
     "output_type": "stream",
     "text": [
      "{2: 0.6582421120412105, 3: 0.6039922730199614, 4: 0.5750160978750805, 5: 0.5434642627173213, 6: 0.5209272376046362, 7: 0.5114294913071474, 8: 0.49323889246619446, 9: 0.4840631036703155, 10: 0.48148744365743723, 11: 0.4750482936252415, 12: 0.4692530585962653, 13: 0.46796522858982614, 14: 0.46716033483580166, 15: 0.459111397295557, 16: 0.45766258853831293, 17: 0.4584674822923374, 18: 0.44961365099806827, 19: 0.4471989697359948, 20: 0.4452672247263361, 21: 0.43979394719896975, 22: 0.43126207340631034, 23: 0.42916934964584674, 24: 0.4249839021249195, 25: 0.4211204121056021, 26: 0.4169349645846748, 27: 0.41596909207984545, 28: 0.4088860270444301, 29: 0.40582743077913713}\n",
      "{2: 0.25947187141216993, 3: 0.2709529276693456, 4: 0.28243398392652125, 5: 0.2847301951779564, 6: 0.2755453501722158, 7: 0.2743972445464983, 8: 0.2766934557979334, 9: 0.27898966704936856, 10: 0.2755453501722158, 11: 0.2766934557979334, 12: 0.24110218140068887, 13: 0.24569460390355913, 14: 0.25143513203214696, 15: 0.23191733639494833, 16: 0.2296211251435132, 17: 0.26865671641791045, 18: 0.2709529276693456, 19: 0.27324913892078073, 20: 0.23765786452353616, 21: 0.23536165327210104, 22: 0.2537313432835821, 23: 0.2365097588978186, 24: 0.23421354764638347, 25: 0.2537313432835821, 26: 0.26865671641791045, 27: 0.2766934557979334, 28: 0.24110218140068887, 29: 0.26865671641791045}\n"
     ]
    }
   ],
   "source": [
    "print(train_score)\n",
    "print(val_score)"
   ]
  }
 ],
 "metadata": {
  "kernelspec": {
   "display_name": "comp7103",
   "language": "python",
   "name": "comp7103"
  },
  "language_info": {
   "codemirror_mode": {
    "name": "ipython",
    "version": 3
   },
   "file_extension": ".py",
   "mimetype": "text/x-python",
   "name": "python",
   "nbconvert_exporter": "python",
   "pygments_lexer": "ipython3",
   "version": "3.12.7"
  }
 },
 "nbformat": 4,
 "nbformat_minor": 5
}
